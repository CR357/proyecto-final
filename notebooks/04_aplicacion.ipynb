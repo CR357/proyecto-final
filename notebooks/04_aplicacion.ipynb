{
 "cells": [
  {
   "cell_type": "markdown",
   "metadata": {},
   "source": [
    "### Aplicación Práctica del Dataset\n",
    "\n",
    "El Dataset `Shopping Trends` contiene 3900 registros de ventas de una tienda de ropa y accesorios en estados unidos. \n",
    "\n",
    "Según los análisis del Dataset, se puede observar que los clientes son de todas las edades, principalmente hombres, sin que ningún grupo etario destaque significativamente sobre los demás. \n",
    "\n",
    "Del analisis de las variables se desprende que hay un grupo de 1914 `Clientes VIP` cuyo gasto está por sobre el percentil 50 y sus preferencias de compras corresponden a los siguientes productos: \n",
    "- Shirt (poleras)       \n",
    "- Dress (vestidos)        \n",
    "- Blouse (blusas)     \n",
    "\n",
    "Dado que los productos más comprados son articulos de ropa, **se propone una campaña de fidelización a través de descuentos por temporada invierno/verano exclusiva para Clientes VIP**.\n",
    "\n",
    "Por otro lado, hay un grupo de 1935 `Clientes Frecuentes`, que están sobre el percentil 50 en cuanto a la cantidad de transacciones históricas, aunque no necesariamente son los que más han gastado. Para estos clientes **se propone una campaña de acumulación de puntos, con la posibilidad de obtener descuentos adicionales en las próximas compras**, fomentando así el aumento en la cantidad de ventas de este segmento.\n",
    "\n",
    "Finalmente, utilizando distintas visualizaciones se concluyó que los clientes son mayoritariamente hombres, superando a las mujeres en una relacion de 2:1. Son personas de todas las edades cuyo interés principal está en las categorías de producto `Ropa` y `Accesorios`. Los productos más demandados por este segmento son Pantalones, Joyas, Abrigos y Vestidos. Si consideramos que las frecuencias de compra más comunes son trimestrales y anuales, se puede inferir que una parte importante de las compras de estos clientes podría ser para sus parejas (Joyas y Vestidos), con una periodicidad de varios meses o incluso anual. Por lo anterior **se propone una campaña de descuentos para las efemérides del año (Día de la Madre, Navidad, Dia de la mujer, etc.)** y así aumentar las ventas a estos clientes y capturar nuevos prospectos.\n"
   ]
  }
 ],
 "metadata": {
  "language_info": {
   "name": "python"
  }
 },
 "nbformat": 4,
 "nbformat_minor": 2
}
